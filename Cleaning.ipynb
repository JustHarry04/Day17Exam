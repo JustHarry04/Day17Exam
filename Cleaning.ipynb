{
 "cells": [
  {
   "cell_type": "code",
   "execution_count": 1,
   "metadata": {},
   "outputs": [],
   "source": [
    "import pandas as pd\n",
    "import matplotlib.pyplot as plt\n",
    "import seaborn as sns"
   ]
  },
  {
   "cell_type": "code",
   "execution_count": 2,
   "metadata": {},
   "outputs": [],
   "source": [
    "df = pd.read_csv(\"Accidents_US.csv\")\n"
   ]
  },
  {
   "cell_type": "code",
   "execution_count": 3,
   "metadata": {},
   "outputs": [
    {
     "data": {
      "text/html": [
       "<div>\n",
       "<style scoped>\n",
       "    .dataframe tbody tr th:only-of-type {\n",
       "        vertical-align: middle;\n",
       "    }\n",
       "\n",
       "    .dataframe tbody tr th {\n",
       "        vertical-align: top;\n",
       "    }\n",
       "\n",
       "    .dataframe thead th {\n",
       "        text-align: right;\n",
       "    }\n",
       "</style>\n",
       "<table border=\"1\" class=\"dataframe\">\n",
       "  <thead>\n",
       "    <tr style=\"text-align: right;\">\n",
       "      <th></th>\n",
       "      <th>ID</th>\n",
       "      <th>Source</th>\n",
       "      <th>Severity</th>\n",
       "      <th>Start_Time</th>\n",
       "      <th>End_Time</th>\n",
       "      <th>Start_Lat</th>\n",
       "      <th>Start_Lng</th>\n",
       "      <th>End_Lat</th>\n",
       "      <th>End_Lng</th>\n",
       "      <th>Distance(mi)</th>\n",
       "      <th>...</th>\n",
       "      <th>Roundabout</th>\n",
       "      <th>Station</th>\n",
       "      <th>Stop</th>\n",
       "      <th>Traffic_Calming</th>\n",
       "      <th>Traffic_Signal</th>\n",
       "      <th>Turning_Loop</th>\n",
       "      <th>Sunrise_Sunset</th>\n",
       "      <th>Civil_Twilight</th>\n",
       "      <th>Nautical_Twilight</th>\n",
       "      <th>Astronomical_Twilight</th>\n",
       "    </tr>\n",
       "  </thead>\n",
       "  <tbody>\n",
       "    <tr>\n",
       "      <th>0</th>\n",
       "      <td>A-102</td>\n",
       "      <td>Source3</td>\n",
       "      <td>2</td>\n",
       "      <td>2016-02-11 08:34:14</td>\n",
       "      <td>2016-02-11 09:04:14</td>\n",
       "      <td>40.111950</td>\n",
       "      <td>-83.016663</td>\n",
       "      <td>NaN</td>\n",
       "      <td>NaN</td>\n",
       "      <td>0.48</td>\n",
       "      <td>...</td>\n",
       "      <td>False</td>\n",
       "      <td>False</td>\n",
       "      <td>False</td>\n",
       "      <td>False</td>\n",
       "      <td>False</td>\n",
       "      <td>False</td>\n",
       "      <td>Day</td>\n",
       "      <td>Day</td>\n",
       "      <td>Day</td>\n",
       "      <td>Day</td>\n",
       "    </tr>\n",
       "    <tr>\n",
       "      <th>1</th>\n",
       "      <td>A-121</td>\n",
       "      <td>Source3</td>\n",
       "      <td>3</td>\n",
       "      <td>2016-02-11 19:22:00</td>\n",
       "      <td>2016-02-11 21:00:00</td>\n",
       "      <td>39.995369</td>\n",
       "      <td>-82.985085</td>\n",
       "      <td>NaN</td>\n",
       "      <td>NaN</td>\n",
       "      <td>0.01</td>\n",
       "      <td>...</td>\n",
       "      <td>False</td>\n",
       "      <td>False</td>\n",
       "      <td>False</td>\n",
       "      <td>False</td>\n",
       "      <td>False</td>\n",
       "      <td>False</td>\n",
       "      <td>Night</td>\n",
       "      <td>Night</td>\n",
       "      <td>Night</td>\n",
       "      <td>Day</td>\n",
       "    </tr>\n",
       "    <tr>\n",
       "      <th>2</th>\n",
       "      <td>A-242</td>\n",
       "      <td>Source3</td>\n",
       "      <td>3</td>\n",
       "      <td>2016-02-18 07:50:11</td>\n",
       "      <td>2016-02-18 08:20:11</td>\n",
       "      <td>39.819839</td>\n",
       "      <td>-84.189087</td>\n",
       "      <td>NaN</td>\n",
       "      <td>NaN</td>\n",
       "      <td>0.01</td>\n",
       "      <td>...</td>\n",
       "      <td>False</td>\n",
       "      <td>False</td>\n",
       "      <td>False</td>\n",
       "      <td>False</td>\n",
       "      <td>False</td>\n",
       "      <td>False</td>\n",
       "      <td>Day</td>\n",
       "      <td>Day</td>\n",
       "      <td>Day</td>\n",
       "      <td>Day</td>\n",
       "    </tr>\n",
       "    <tr>\n",
       "      <th>3</th>\n",
       "      <td>A-243</td>\n",
       "      <td>Source3</td>\n",
       "      <td>2</td>\n",
       "      <td>2016-02-18 08:01:09</td>\n",
       "      <td>2016-02-18 08:31:09</td>\n",
       "      <td>39.745735</td>\n",
       "      <td>-84.120644</td>\n",
       "      <td>NaN</td>\n",
       "      <td>NaN</td>\n",
       "      <td>0.01</td>\n",
       "      <td>...</td>\n",
       "      <td>False</td>\n",
       "      <td>False</td>\n",
       "      <td>False</td>\n",
       "      <td>False</td>\n",
       "      <td>False</td>\n",
       "      <td>False</td>\n",
       "      <td>Day</td>\n",
       "      <td>Day</td>\n",
       "      <td>Day</td>\n",
       "      <td>Day</td>\n",
       "    </tr>\n",
       "    <tr>\n",
       "      <th>4</th>\n",
       "      <td>A-257</td>\n",
       "      <td>Source3</td>\n",
       "      <td>3</td>\n",
       "      <td>2016-02-18 09:25:10</td>\n",
       "      <td>2016-02-18 09:55:10</td>\n",
       "      <td>39.993843</td>\n",
       "      <td>-82.985054</td>\n",
       "      <td>NaN</td>\n",
       "      <td>NaN</td>\n",
       "      <td>0.01</td>\n",
       "      <td>...</td>\n",
       "      <td>False</td>\n",
       "      <td>False</td>\n",
       "      <td>False</td>\n",
       "      <td>False</td>\n",
       "      <td>False</td>\n",
       "      <td>False</td>\n",
       "      <td>Day</td>\n",
       "      <td>Day</td>\n",
       "      <td>Day</td>\n",
       "      <td>Day</td>\n",
       "    </tr>\n",
       "  </tbody>\n",
       "</table>\n",
       "<p>5 rows × 46 columns</p>\n",
       "</div>"
      ],
      "text/plain": [
       "      ID   Source  Severity           Start_Time             End_Time  \\\n",
       "0  A-102  Source3         2  2016-02-11 08:34:14  2016-02-11 09:04:14   \n",
       "1  A-121  Source3         3  2016-02-11 19:22:00  2016-02-11 21:00:00   \n",
       "2  A-242  Source3         3  2016-02-18 07:50:11  2016-02-18 08:20:11   \n",
       "3  A-243  Source3         2  2016-02-18 08:01:09  2016-02-18 08:31:09   \n",
       "4  A-257  Source3         3  2016-02-18 09:25:10  2016-02-18 09:55:10   \n",
       "\n",
       "   Start_Lat  Start_Lng  End_Lat  End_Lng  Distance(mi)  ... Roundabout  \\\n",
       "0  40.111950 -83.016663      NaN      NaN          0.48  ...      False   \n",
       "1  39.995369 -82.985085      NaN      NaN          0.01  ...      False   \n",
       "2  39.819839 -84.189087      NaN      NaN          0.01  ...      False   \n",
       "3  39.745735 -84.120644      NaN      NaN          0.01  ...      False   \n",
       "4  39.993843 -82.985054      NaN      NaN          0.01  ...      False   \n",
       "\n",
       "  Station   Stop Traffic_Calming Traffic_Signal Turning_Loop Sunrise_Sunset  \\\n",
       "0   False  False           False          False        False            Day   \n",
       "1   False  False           False          False        False          Night   \n",
       "2   False  False           False          False        False            Day   \n",
       "3   False  False           False          False        False            Day   \n",
       "4   False  False           False          False        False            Day   \n",
       "\n",
       "  Civil_Twilight Nautical_Twilight Astronomical_Twilight  \n",
       "0            Day               Day                   Day  \n",
       "1          Night             Night                   Day  \n",
       "2            Day               Day                   Day  \n",
       "3            Day               Day                   Day  \n",
       "4            Day               Day                   Day  \n",
       "\n",
       "[5 rows x 46 columns]"
      ]
     },
     "execution_count": 3,
     "metadata": {},
     "output_type": "execute_result"
    }
   ],
   "source": [
    "df.head()"
   ]
  },
  {
   "cell_type": "code",
   "execution_count": 4,
   "metadata": {},
   "outputs": [
    {
     "name": "stdout",
     "output_type": "stream",
     "text": [
      "<class 'pandas.core.frame.DataFrame'>\n",
      "RangeIndex: 97389 entries, 0 to 97388\n",
      "Data columns (total 46 columns):\n",
      " #   Column                 Non-Null Count  Dtype  \n",
      "---  ------                 --------------  -----  \n",
      " 0   ID                     97389 non-null  object \n",
      " 1   Source                 97389 non-null  object \n",
      " 2   Severity               97389 non-null  int64  \n",
      " 3   Start_Time             97389 non-null  object \n",
      " 4   End_Time               97389 non-null  object \n",
      " 5   Start_Lat              97389 non-null  float64\n",
      " 6   Start_Lng              97389 non-null  float64\n",
      " 7   End_Lat                0 non-null      float64\n",
      " 8   End_Lng                0 non-null      float64\n",
      " 9   Distance(mi)           97389 non-null  float64\n",
      " 10  Description            97389 non-null  object \n",
      " 11  Street                 97300 non-null  object \n",
      " 12  City                   97388 non-null  object \n",
      " 13  County                 97389 non-null  object \n",
      " 14  State                  97389 non-null  object \n",
      " 15  Zipcode                97389 non-null  object \n",
      " 16  Country                97389 non-null  object \n",
      " 17  Timezone               97389 non-null  object \n",
      " 18  Airport_Code           97337 non-null  object \n",
      " 19  Weather_Timestamp      96004 non-null  object \n",
      " 20  Temperature(F)         95324 non-null  float64\n",
      " 21  Wind_Chill(F)          75952 non-null  float64\n",
      " 22  Humidity(%)            95214 non-null  float64\n",
      " 23  Pressure(in)           95738 non-null  float64\n",
      " 24  Visibility(mi)         95422 non-null  float64\n",
      " 25  Wind_Direction         95238 non-null  object \n",
      " 26  Wind_Speed(mph)        91145 non-null  float64\n",
      " 27  Precipitation(in)      71844 non-null  float64\n",
      " 28  Weather_Condition      95463 non-null  object \n",
      " 29  Amenity                97389 non-null  bool   \n",
      " 30  Bump                   97389 non-null  bool   \n",
      " 31  Crossing               97389 non-null  bool   \n",
      " 32  Give_Way               97389 non-null  bool   \n",
      " 33  Junction               97389 non-null  bool   \n",
      " 34  No_Exit                97389 non-null  bool   \n",
      " 35  Railway                97389 non-null  bool   \n",
      " 36  Roundabout             97389 non-null  bool   \n",
      " 37  Station                97389 non-null  bool   \n",
      " 38  Stop                   97389 non-null  bool   \n",
      " 39  Traffic_Calming        97389 non-null  bool   \n",
      " 40  Traffic_Signal         97389 non-null  bool   \n",
      " 41  Turning_Loop           97389 non-null  bool   \n",
      " 42  Sunrise_Sunset         97255 non-null  object \n",
      " 43  Civil_Twilight         97255 non-null  object \n",
      " 44  Nautical_Twilight      97255 non-null  object \n",
      " 45  Astronomical_Twilight  97255 non-null  object \n",
      "dtypes: bool(13), float64(12), int64(1), object(20)\n",
      "memory usage: 25.7+ MB\n"
     ]
    }
   ],
   "source": [
    "df.info()"
   ]
  },
  {
   "cell_type": "markdown",
   "metadata": {},
   "source": [
    "## Check the dataframe How many rows and columns"
   ]
  },
  {
   "cell_type": "code",
   "execution_count": 27,
   "metadata": {},
   "outputs": [
    {
     "name": "stdout",
     "output_type": "stream",
     "text": [
      "The DataFrame has rows - 96,004 and columns - 44\n"
     ]
    }
   ],
   "source": [
    "rows, cols = df.shape\n",
    "print(f\"The DataFrame has rows - {rows:,} and columns - {cols}\")"
   ]
  },
  {
   "cell_type": "markdown",
   "metadata": {},
   "source": [
    "## Converting to the correct data types\n"
   ]
  },
  {
   "cell_type": "code",
   "execution_count": 33,
   "metadata": {},
   "outputs": [
    {
     "name": "stdout",
     "output_type": "stream",
     "text": [
      "<class 'pandas.core.frame.DataFrame'>\n",
      "Index: 96004 entries, 0 to 97388\n",
      "Data columns (total 44 columns):\n",
      " #   Column                 Non-Null Count  Dtype         \n",
      "---  ------                 --------------  -----         \n",
      " 0   ID                     96004 non-null  object        \n",
      " 1   Source                 96004 non-null  object        \n",
      " 2   Severity               96004 non-null  int64         \n",
      " 3   Start_Time             96004 non-null  datetime64[ns]\n",
      " 4   End_Time               96004 non-null  datetime64[ns]\n",
      " 5   Start_Lat              96004 non-null  float64       \n",
      " 6   Start_Lng              96004 non-null  float64       \n",
      " 7   Distance(mi)           96004 non-null  float64       \n",
      " 8   Description            96004 non-null  object        \n",
      " 9   Street                 96004 non-null  object        \n",
      " 10  City                   96003 non-null  object        \n",
      " 11  County                 96004 non-null  object        \n",
      " 12  State                  96004 non-null  object        \n",
      " 13  Zipcode                96004 non-null  object        \n",
      " 14  Country                96004 non-null  object        \n",
      " 15  Timezone               96004 non-null  object        \n",
      " 16  Airport_Code           96004 non-null  object        \n",
      " 17  Weather_Timestamp      96004 non-null  object        \n",
      " 18  Temperature(F)         96004 non-null  float64       \n",
      " 19  Wind_Chill(F)          96004 non-null  float64       \n",
      " 20  Humidity(%)            96004 non-null  float64       \n",
      " 21  Pressure(in)           96004 non-null  float64       \n",
      " 22  Visibility(mi)         96004 non-null  float64       \n",
      " 23  Wind_Direction         96004 non-null  object        \n",
      " 24  Wind_Speed(mph)        96004 non-null  float64       \n",
      " 25  Precipitation(in)      96004 non-null  float64       \n",
      " 26  Weather_Condition      95463 non-null  object        \n",
      " 27  Amenity                96004 non-null  bool          \n",
      " 28  Bump                   96004 non-null  bool          \n",
      " 29  Crossing               96004 non-null  bool          \n",
      " 30  Give_Way               96004 non-null  bool          \n",
      " 31  Junction               96004 non-null  bool          \n",
      " 32  No_Exit                96004 non-null  bool          \n",
      " 33  Railway                96004 non-null  bool          \n",
      " 34  Roundabout             96004 non-null  bool          \n",
      " 35  Station                96004 non-null  bool          \n",
      " 36  Stop                   96004 non-null  bool          \n",
      " 37  Traffic_Calming        96004 non-null  bool          \n",
      " 38  Traffic_Signal         96004 non-null  bool          \n",
      " 39  Turning_Loop           96004 non-null  bool          \n",
      " 40  Sunrise_Sunset         95873 non-null  object        \n",
      " 41  Civil_Twilight         95873 non-null  object        \n",
      " 42  Nautical_Twilight      95873 non-null  object        \n",
      " 43  Astronomical_Twilight  95873 non-null  object        \n",
      "dtypes: bool(13), datetime64[ns](2), float64(10), int64(1), object(18)\n",
      "memory usage: 24.6+ MB\n"
     ]
    }
   ],
   "source": [
    "'''Converting the Start_Time & End_Time column data type from object to datetime64[ns]'''\n",
    "cols = df.columns[3:5]\n",
    "\n",
    "\n",
    "df[cols] = df[cols].apply(pd.to_datetime, errors='coerce')"
   ]
  },
  {
   "cell_type": "markdown",
   "metadata": {},
   "source": [
    "## Dropping columns which has more than 40% none value"
   ]
  },
  {
   "cell_type": "code",
   "execution_count": 5,
   "metadata": {},
   "outputs": [
    {
     "data": {
      "text/plain": [
       "ID                         0.000000\n",
       "Source                     0.000000\n",
       "Severity                   0.000000\n",
       "Start_Time                 0.000000\n",
       "End_Time                   0.000000\n",
       "Start_Lat                  0.000000\n",
       "Start_Lng                  0.000000\n",
       "End_Lat                  100.000000\n",
       "End_Lng                  100.000000\n",
       "Distance(mi)               0.000000\n",
       "Description                0.000000\n",
       "Street                     0.091386\n",
       "City                       0.001027\n",
       "County                     0.000000\n",
       "State                      0.000000\n",
       "Zipcode                    0.000000\n",
       "Country                    0.000000\n",
       "Timezone                   0.000000\n",
       "Airport_Code               0.053394\n",
       "Weather_Timestamp          1.422132\n",
       "Temperature(F)             2.120363\n",
       "Wind_Chill(F)             22.011726\n",
       "Humidity(%)                2.233312\n",
       "Pressure(in)               1.695263\n",
       "Visibility(mi)             2.019735\n",
       "Wind_Direction             2.208668\n",
       "Wind_Speed(mph)            6.411402\n",
       "Precipitation(in)         26.229862\n",
       "Weather_Condition          1.977636\n",
       "Amenity                    0.000000\n",
       "Bump                       0.000000\n",
       "Crossing                   0.000000\n",
       "Give_Way                   0.000000\n",
       "Junction                   0.000000\n",
       "No_Exit                    0.000000\n",
       "Railway                    0.000000\n",
       "Roundabout                 0.000000\n",
       "Station                    0.000000\n",
       "Stop                       0.000000\n",
       "Traffic_Calming            0.000000\n",
       "Traffic_Signal             0.000000\n",
       "Turning_Loop               0.000000\n",
       "Sunrise_Sunset             0.137593\n",
       "Civil_Twilight             0.137593\n",
       "Nautical_Twilight          0.137593\n",
       "Astronomical_Twilight      0.137593\n",
       "dtype: float64"
      ]
     },
     "execution_count": 5,
     "metadata": {},
     "output_type": "execute_result"
    }
   ],
   "source": [
    "df.isna().mean()*100"
   ]
  },
  {
   "cell_type": "code",
   "execution_count": 6,
   "metadata": {},
   "outputs": [],
   "source": [
    "df= df.drop(columns=[\"End_Lat\", \"End_Lng\"])"
   ]
  },
  {
   "cell_type": "code",
   "execution_count": 7,
   "metadata": {},
   "outputs": [
    {
     "data": {
      "text/plain": [
       "Wind_Chill(F)            22.011726\n",
       "Humidity(%)               2.233312\n",
       "Pressure(in)              1.695263\n",
       "Visibility(mi)            2.019735\n",
       "Wind_Direction            2.208668\n",
       "Wind_Speed(mph)           6.411402\n",
       "Precipitation(in)        26.229862\n",
       "Weather_Condition         1.977636\n",
       "Amenity                   0.000000\n",
       "Bump                      0.000000\n",
       "Crossing                  0.000000\n",
       "Give_Way                  0.000000\n",
       "Junction                  0.000000\n",
       "No_Exit                   0.000000\n",
       "Railway                   0.000000\n",
       "Roundabout                0.000000\n",
       "Station                   0.000000\n",
       "Stop                      0.000000\n",
       "Traffic_Calming           0.000000\n",
       "Traffic_Signal            0.000000\n",
       "Turning_Loop              0.000000\n",
       "Sunrise_Sunset            0.137593\n",
       "Civil_Twilight            0.137593\n",
       "Nautical_Twilight         0.137593\n",
       "Astronomical_Twilight     0.137593\n",
       "dtype: float64"
      ]
     },
     "execution_count": 7,
     "metadata": {},
     "output_type": "execute_result"
    }
   ],
   "source": [
    "df.isna().mean().tail(25)*100"
   ]
  },
  {
   "cell_type": "markdown",
   "metadata": {},
   "source": [
    "## Replacing None Values with Median or Mode of the column"
   ]
  },
  {
   "cell_type": "code",
   "execution_count": 12,
   "metadata": {},
   "outputs": [],
   "source": [
    "df=df.dropna(subset=[\"Weather_Timestamp\"])"
   ]
  },
  {
   "cell_type": "code",
   "execution_count": 13,
   "metadata": {},
   "outputs": [],
   "source": [
    "df[\"Temperature(F)\"]=df[\"Temperature(F)\"].fillna(df[\"Temperature(F)\"].median())"
   ]
  },
  {
   "cell_type": "code",
   "execution_count": 14,
   "metadata": {},
   "outputs": [],
   "source": [
    "df[\"Wind_Chill(F)\"]=df[\"Wind_Chill(F)\"].fillna(df[\"Wind_Chill(F)\"].median())"
   ]
  },
  {
   "cell_type": "code",
   "execution_count": 15,
   "metadata": {},
   "outputs": [],
   "source": [
    "df[\"Humidity(%)\"]=df[\"Humidity(%)\"].fillna(df[\"Humidity(%)\"].median())"
   ]
  },
  {
   "cell_type": "code",
   "execution_count": 16,
   "metadata": {},
   "outputs": [],
   "source": [
    "df[\"Pressure(in)\"]=df[\"Pressure(in)\"].fillna(df[\"Pressure(in)\"].median())"
   ]
  },
  {
   "cell_type": "code",
   "execution_count": 17,
   "metadata": {},
   "outputs": [],
   "source": [
    "df[\"Visibility(mi)\"]=df[\"Visibility(mi)\"].fillna(df[\"Visibility(mi)\"].median())"
   ]
  },
  {
   "cell_type": "code",
   "execution_count": 18,
   "metadata": {},
   "outputs": [],
   "source": [
    "df[\"Wind_Direction\"]=df[\"Wind_Direction\"].fillna(df[\"Wind_Direction\"].mode())"
   ]
  },
  {
   "cell_type": "code",
   "execution_count": 19,
   "metadata": {},
   "outputs": [],
   "source": [
    "df[\"Wind_Speed(mph)\"]=df[\"Wind_Speed(mph)\"].fillna(df[\"Wind_Speed(mph)\"].median())"
   ]
  },
  {
   "cell_type": "code",
   "execution_count": 20,
   "metadata": {},
   "outputs": [],
   "source": [
    "df[\"Precipitation(in)\"]=df[\"Precipitation(in)\"].fillna(df[\"Precipitation(in)\"].median())"
   ]
  },
  {
   "cell_type": "code",
   "execution_count": 21,
   "metadata": {},
   "outputs": [],
   "source": [
    "df[\"Weather_Condition\"]=df[\"Weather_Condition\"].fillna(df[\"Weather_Condition\"].mode())"
   ]
  },
  {
   "cell_type": "code",
   "execution_count": 22,
   "metadata": {},
   "outputs": [],
   "source": [
    "df[\"Weather_Condition\"]=df[\"Weather_Condition\"].fillna(df[\"Weather_Condition\"].mode())"
   ]
  },
  {
   "cell_type": "code",
   "execution_count": 39,
   "metadata": {},
   "outputs": [],
   "source": [
    "df[\"Sunrise_Sunset\"]=df[\"Sunrise_Sunset\"].fillna(df[\"Sunrise_Sunset\"].mode()[0])"
   ]
  },
  {
   "cell_type": "code",
   "execution_count": 40,
   "metadata": {},
   "outputs": [],
   "source": [
    "df[\"Civil_Twilight\"]=df[\"Civil_Twilight\"].fillna(df[\"Civil_Twilight\"].mode()[0])"
   ]
  },
  {
   "cell_type": "code",
   "execution_count": 41,
   "metadata": {},
   "outputs": [],
   "source": [
    "df[\"Nautical_Twilight\"]=df[\"Nautical_Twilight\"].fillna(df[\"Nautical_Twilight\"].mode()[0])"
   ]
  },
  {
   "cell_type": "code",
   "execution_count": 42,
   "metadata": {},
   "outputs": [],
   "source": [
    "df[\"Astronomical_Twilight\"]=df[\"Astronomical_Twilight\"].fillna(df[\"Astronomical_Twilight\"].mode()[0])"
   ]
  },
  {
   "cell_type": "code",
   "execution_count": 44,
   "metadata": {},
   "outputs": [
    {
     "data": {
      "text/plain": [
       "ID                       0.000000\n",
       "Source                   0.000000\n",
       "Severity                 0.000000\n",
       "Start_Time               0.000000\n",
       "End_Time                 0.000000\n",
       "Start_Lat                0.000000\n",
       "Start_Lng                0.000000\n",
       "Distance(mi)             0.000000\n",
       "Description              0.000000\n",
       "Street                   0.000000\n",
       "City                     0.000010\n",
       "County                   0.000000\n",
       "State                    0.000000\n",
       "Zipcode                  0.000000\n",
       "Country                  0.000000\n",
       "Timezone                 0.000000\n",
       "Airport_Code             0.000000\n",
       "Weather_Timestamp        0.000000\n",
       "Temperature(F)           0.000000\n",
       "Wind_Chill(F)            0.000000\n",
       "Humidity(%)              0.000000\n",
       "Pressure(in)             0.000000\n",
       "Visibility(mi)           0.000000\n",
       "Wind_Direction           0.000000\n",
       "Wind_Speed(mph)          0.000000\n",
       "Precipitation(in)        0.000000\n",
       "Weather_Condition        0.005635\n",
       "Amenity                  0.000000\n",
       "Bump                     0.000000\n",
       "Crossing                 0.000000\n",
       "Give_Way                 0.000000\n",
       "Junction                 0.000000\n",
       "No_Exit                  0.000000\n",
       "Railway                  0.000000\n",
       "Roundabout               0.000000\n",
       "Station                  0.000000\n",
       "Stop                     0.000000\n",
       "Traffic_Calming          0.000000\n",
       "Traffic_Signal           0.000000\n",
       "Turning_Loop             0.000000\n",
       "Sunrise_Sunset           0.000000\n",
       "Civil_Twilight           0.000000\n",
       "Nautical_Twilight        0.000000\n",
       "Astronomical_Twilight    0.000000\n",
       "dtype: float64"
      ]
     },
     "execution_count": 44,
     "metadata": {},
     "output_type": "execute_result"
    }
   ],
   "source": [
    "df.isna().mean()"
   ]
  },
  {
   "cell_type": "code",
   "execution_count": 24,
   "metadata": {},
   "outputs": [],
   "source": [
    "df[\"Wind_Direction\"]=df[\"Wind_Direction\"].fillna(df[\"Wind_Direction\"].mode()[0])"
   ]
  },
  {
   "cell_type": "code",
   "execution_count": 25,
   "metadata": {},
   "outputs": [],
   "source": [
    "df[\"Street\"]=df[\"Street\"].fillna(df[\"Street\"].mode()[0])"
   ]
  },
  {
   "cell_type": "code",
   "execution_count": 26,
   "metadata": {},
   "outputs": [
    {
     "data": {
      "text/plain": [
       "ID                        object\n",
       "Source                    object\n",
       "Severity                   int64\n",
       "Start_Time                object\n",
       "End_Time                  object\n",
       "Start_Lat                float64\n",
       "Start_Lng                float64\n",
       "Distance(mi)             float64\n",
       "Description               object\n",
       "Street                    object\n",
       "City                      object\n",
       "County                    object\n",
       "State                     object\n",
       "Zipcode                   object\n",
       "Country                   object\n",
       "Timezone                  object\n",
       "Airport_Code              object\n",
       "Weather_Timestamp         object\n",
       "Temperature(F)           float64\n",
       "Wind_Chill(F)            float64\n",
       "Humidity(%)              float64\n",
       "Pressure(in)             float64\n",
       "Visibility(mi)           float64\n",
       "Wind_Direction            object\n",
       "Wind_Speed(mph)          float64\n",
       "Precipitation(in)        float64\n",
       "Weather_Condition         object\n",
       "Amenity                     bool\n",
       "Bump                        bool\n",
       "Crossing                    bool\n",
       "Give_Way                    bool\n",
       "Junction                    bool\n",
       "No_Exit                     bool\n",
       "Railway                     bool\n",
       "Roundabout                  bool\n",
       "Station                     bool\n",
       "Stop                        bool\n",
       "Traffic_Calming             bool\n",
       "Traffic_Signal              bool\n",
       "Turning_Loop                bool\n",
       "Sunrise_Sunset            object\n",
       "Civil_Twilight            object\n",
       "Nautical_Twilight         object\n",
       "Astronomical_Twilight     object\n",
       "dtype: object"
      ]
     },
     "execution_count": 26,
     "metadata": {},
     "output_type": "execute_result"
    }
   ],
   "source": [
    "df.dtypes"
   ]
  },
  {
   "cell_type": "code",
   "execution_count": 45,
   "metadata": {},
   "outputs": [],
   "source": [
    "df.to_csv(\"Us_accidents_Cleaned.csv\")"
   ]
  },
  {
   "cell_type": "code",
   "execution_count": null,
   "metadata": {},
   "outputs": [],
   "source": []
  }
 ],
 "metadata": {
  "kernelspec": {
   "display_name": "Python 3",
   "language": "python",
   "name": "python3"
  },
  "language_info": {
   "codemirror_mode": {
    "name": "ipython",
    "version": 3
   },
   "file_extension": ".py",
   "mimetype": "text/x-python",
   "name": "python",
   "nbconvert_exporter": "python",
   "pygments_lexer": "ipython3",
   "version": "3.12.0"
  }
 },
 "nbformat": 4,
 "nbformat_minor": 2
}
